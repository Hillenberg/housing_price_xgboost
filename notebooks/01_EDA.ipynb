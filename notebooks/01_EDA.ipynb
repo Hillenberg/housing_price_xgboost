{
 "cells": [
  {
   "cell_type": "code",
   "outputs": [],
   "source": [
    "# Standard-Imports\n",
    "import pandas as pd\n",
    "import numpy as np\n",
    "import matplotlib.pyplot as plt\n",
    "import seaborn as sns\n",
    "\n",
    "# Unsere Daten-Utilities\n",
    "from src.data import load_raw_data\n",
    "\n",
    "# Konfiguration\n",
    "from src.config import RAW_DIR\n",
    "\n",
    "# Plot-Style\n",
    "sns.set_theme(style=\"whitegrid\")"
   ],
   "metadata": {
    "collapsed": true,
    "ExecuteTime": {
     "end_time": "2025-06-17T07:18:02.266060Z",
     "start_time": "2025-06-17T07:18:02.082074Z"
    }
   },
   "id": "initial_id",
   "execution_count": 1
  },
  {
   "cell_type": "code",
   "outputs": [
    {
     "data": {
      "text/plain": "   Id  MSSubClass MSZoning  LotFrontage  LotArea Street Alley LotShape  \\\n0   1          60       RL         65.0     8450   Pave   NaN      Reg   \n1   2          20       RL         80.0     9600   Pave   NaN      Reg   \n2   3          60       RL         68.0    11250   Pave   NaN      IR1   \n3   4          70       RL         60.0     9550   Pave   NaN      IR1   \n4   5          60       RL         84.0    14260   Pave   NaN      IR1   \n\n  LandContour Utilities  ... PoolArea PoolQC Fence MiscFeature MiscVal MoSold  \\\n0         Lvl    AllPub  ...        0    NaN   NaN         NaN       0      2   \n1         Lvl    AllPub  ...        0    NaN   NaN         NaN       0      5   \n2         Lvl    AllPub  ...        0    NaN   NaN         NaN       0      9   \n3         Lvl    AllPub  ...        0    NaN   NaN         NaN       0      2   \n4         Lvl    AllPub  ...        0    NaN   NaN         NaN       0     12   \n\n  YrSold  SaleType  SaleCondition  SalePrice  \n0   2008        WD         Normal     208500  \n1   2007        WD         Normal     181500  \n2   2008        WD         Normal     223500  \n3   2006        WD        Abnorml     140000  \n4   2008        WD         Normal     250000  \n\n[5 rows x 81 columns]",
      "text/html": "<div>\n<style scoped>\n    .dataframe tbody tr th:only-of-type {\n        vertical-align: middle;\n    }\n\n    .dataframe tbody tr th {\n        vertical-align: top;\n    }\n\n    .dataframe thead th {\n        text-align: right;\n    }\n</style>\n<table border=\"1\" class=\"dataframe\">\n  <thead>\n    <tr style=\"text-align: right;\">\n      <th></th>\n      <th>Id</th>\n      <th>MSSubClass</th>\n      <th>MSZoning</th>\n      <th>LotFrontage</th>\n      <th>LotArea</th>\n      <th>Street</th>\n      <th>Alley</th>\n      <th>LotShape</th>\n      <th>LandContour</th>\n      <th>Utilities</th>\n      <th>...</th>\n      <th>PoolArea</th>\n      <th>PoolQC</th>\n      <th>Fence</th>\n      <th>MiscFeature</th>\n      <th>MiscVal</th>\n      <th>MoSold</th>\n      <th>YrSold</th>\n      <th>SaleType</th>\n      <th>SaleCondition</th>\n      <th>SalePrice</th>\n    </tr>\n  </thead>\n  <tbody>\n    <tr>\n      <th>0</th>\n      <td>1</td>\n      <td>60</td>\n      <td>RL</td>\n      <td>65.0</td>\n      <td>8450</td>\n      <td>Pave</td>\n      <td>NaN</td>\n      <td>Reg</td>\n      <td>Lvl</td>\n      <td>AllPub</td>\n      <td>...</td>\n      <td>0</td>\n      <td>NaN</td>\n      <td>NaN</td>\n      <td>NaN</td>\n      <td>0</td>\n      <td>2</td>\n      <td>2008</td>\n      <td>WD</td>\n      <td>Normal</td>\n      <td>208500</td>\n    </tr>\n    <tr>\n      <th>1</th>\n      <td>2</td>\n      <td>20</td>\n      <td>RL</td>\n      <td>80.0</td>\n      <td>9600</td>\n      <td>Pave</td>\n      <td>NaN</td>\n      <td>Reg</td>\n      <td>Lvl</td>\n      <td>AllPub</td>\n      <td>...</td>\n      <td>0</td>\n      <td>NaN</td>\n      <td>NaN</td>\n      <td>NaN</td>\n      <td>0</td>\n      <td>5</td>\n      <td>2007</td>\n      <td>WD</td>\n      <td>Normal</td>\n      <td>181500</td>\n    </tr>\n    <tr>\n      <th>2</th>\n      <td>3</td>\n      <td>60</td>\n      <td>RL</td>\n      <td>68.0</td>\n      <td>11250</td>\n      <td>Pave</td>\n      <td>NaN</td>\n      <td>IR1</td>\n      <td>Lvl</td>\n      <td>AllPub</td>\n      <td>...</td>\n      <td>0</td>\n      <td>NaN</td>\n      <td>NaN</td>\n      <td>NaN</td>\n      <td>0</td>\n      <td>9</td>\n      <td>2008</td>\n      <td>WD</td>\n      <td>Normal</td>\n      <td>223500</td>\n    </tr>\n    <tr>\n      <th>3</th>\n      <td>4</td>\n      <td>70</td>\n      <td>RL</td>\n      <td>60.0</td>\n      <td>9550</td>\n      <td>Pave</td>\n      <td>NaN</td>\n      <td>IR1</td>\n      <td>Lvl</td>\n      <td>AllPub</td>\n      <td>...</td>\n      <td>0</td>\n      <td>NaN</td>\n      <td>NaN</td>\n      <td>NaN</td>\n      <td>0</td>\n      <td>2</td>\n      <td>2006</td>\n      <td>WD</td>\n      <td>Abnorml</td>\n      <td>140000</td>\n    </tr>\n    <tr>\n      <th>4</th>\n      <td>5</td>\n      <td>60</td>\n      <td>RL</td>\n      <td>84.0</td>\n      <td>14260</td>\n      <td>Pave</td>\n      <td>NaN</td>\n      <td>IR1</td>\n      <td>Lvl</td>\n      <td>AllPub</td>\n      <td>...</td>\n      <td>0</td>\n      <td>NaN</td>\n      <td>NaN</td>\n      <td>NaN</td>\n      <td>0</td>\n      <td>12</td>\n      <td>2008</td>\n      <td>WD</td>\n      <td>Normal</td>\n      <td>250000</td>\n    </tr>\n  </tbody>\n</table>\n<p>5 rows × 81 columns</p>\n</div>"
     },
     "execution_count": 2,
     "metadata": {},
     "output_type": "execute_result"
    }
   ],
   "source": [
    "# Daten einlesen\n",
    "df = load_raw_data(\"train.csv\")\n",
    "\n",
    "# Erste Zeilen anzeigen\n",
    "df.head()"
   ],
   "metadata": {
    "collapsed": false,
    "ExecuteTime": {
     "end_time": "2025-06-17T07:18:03.362432Z",
     "start_time": "2025-06-17T07:18:03.339161Z"
    }
   },
   "id": "dc406d714b75a76f",
   "execution_count": 2
  },
  {
   "cell_type": "code",
   "outputs": [
    {
     "data": {
      "text/plain": "                count           mean           std      min        25%  \\\nId             1460.0     730.500000    421.610009      1.0     365.75   \nMSSubClass     1460.0      56.897260     42.300571     20.0      20.00   \nLotFrontage    1201.0      70.049958     24.284752     21.0      59.00   \nLotArea        1460.0   10516.828082   9981.264932   1300.0    7553.50   \nOverallQual    1460.0       6.099315      1.382997      1.0       5.00   \nOverallCond    1460.0       5.575342      1.112799      1.0       5.00   \nYearBuilt      1460.0    1971.267808     30.202904   1872.0    1954.00   \nYearRemodAdd   1460.0    1984.865753     20.645407   1950.0    1967.00   \nMasVnrArea     1452.0     103.685262    181.066207      0.0       0.00   \nBsmtFinSF1     1460.0     443.639726    456.098091      0.0       0.00   \nBsmtFinSF2     1460.0      46.549315    161.319273      0.0       0.00   \nBsmtUnfSF      1460.0     567.240411    441.866955      0.0     223.00   \nTotalBsmtSF    1460.0    1057.429452    438.705324      0.0     795.75   \n1stFlrSF       1460.0    1162.626712    386.587738    334.0     882.00   \n2ndFlrSF       1460.0     346.992466    436.528436      0.0       0.00   \nLowQualFinSF   1460.0       5.844521     48.623081      0.0       0.00   \nGrLivArea      1460.0    1515.463699    525.480383    334.0    1129.50   \nBsmtFullBath   1460.0       0.425342      0.518911      0.0       0.00   \nBsmtHalfBath   1460.0       0.057534      0.238753      0.0       0.00   \nFullBath       1460.0       1.565068      0.550916      0.0       1.00   \nHalfBath       1460.0       0.382877      0.502885      0.0       0.00   \nBedroomAbvGr   1460.0       2.866438      0.815778      0.0       2.00   \nKitchenAbvGr   1460.0       1.046575      0.220338      0.0       1.00   \nTotRmsAbvGrd   1460.0       6.517808      1.625393      2.0       5.00   \nFireplaces     1460.0       0.613014      0.644666      0.0       0.00   \nGarageYrBlt    1379.0    1978.506164     24.689725   1900.0    1961.00   \nGarageCars     1460.0       1.767123      0.747315      0.0       1.00   \nGarageArea     1460.0     472.980137    213.804841      0.0     334.50   \nWoodDeckSF     1460.0      94.244521    125.338794      0.0       0.00   \nOpenPorchSF    1460.0      46.660274     66.256028      0.0       0.00   \nEnclosedPorch  1460.0      21.954110     61.119149      0.0       0.00   \n3SsnPorch      1460.0       3.409589     29.317331      0.0       0.00   \nScreenPorch    1460.0      15.060959     55.757415      0.0       0.00   \nPoolArea       1460.0       2.758904     40.177307      0.0       0.00   \nMiscVal        1460.0      43.489041    496.123024      0.0       0.00   \nMoSold         1460.0       6.321918      2.703626      1.0       5.00   \nYrSold         1460.0    2007.815753      1.328095   2006.0    2007.00   \nSalePrice      1460.0  180921.195890  79442.502883  34900.0  129975.00   \n\n                    50%        75%       max  \nId                730.5    1095.25    1460.0  \nMSSubClass         50.0      70.00     190.0  \nLotFrontage        69.0      80.00     313.0  \nLotArea          9478.5   11601.50  215245.0  \nOverallQual         6.0       7.00      10.0  \nOverallCond         5.0       6.00       9.0  \nYearBuilt        1973.0    2000.00    2010.0  \nYearRemodAdd     1994.0    2004.00    2010.0  \nMasVnrArea          0.0     166.00    1600.0  \nBsmtFinSF1        383.5     712.25    5644.0  \nBsmtFinSF2          0.0       0.00    1474.0  \nBsmtUnfSF         477.5     808.00    2336.0  \nTotalBsmtSF       991.5    1298.25    6110.0  \n1stFlrSF         1087.0    1391.25    4692.0  \n2ndFlrSF            0.0     728.00    2065.0  \nLowQualFinSF        0.0       0.00     572.0  \nGrLivArea        1464.0    1776.75    5642.0  \nBsmtFullBath        0.0       1.00       3.0  \nBsmtHalfBath        0.0       0.00       2.0  \nFullBath            2.0       2.00       3.0  \nHalfBath            0.0       1.00       2.0  \nBedroomAbvGr        3.0       3.00       8.0  \nKitchenAbvGr        1.0       1.00       3.0  \nTotRmsAbvGrd        6.0       7.00      14.0  \nFireplaces          1.0       1.00       3.0  \nGarageYrBlt      1980.0    2002.00    2010.0  \nGarageCars          2.0       2.00       4.0  \nGarageArea        480.0     576.00    1418.0  \nWoodDeckSF          0.0     168.00     857.0  \nOpenPorchSF        25.0      68.00     547.0  \nEnclosedPorch       0.0       0.00     552.0  \n3SsnPorch           0.0       0.00     508.0  \nScreenPorch         0.0       0.00     480.0  \nPoolArea            0.0       0.00     738.0  \nMiscVal             0.0       0.00   15500.0  \nMoSold              6.0       8.00      12.0  \nYrSold           2008.0    2009.00    2010.0  \nSalePrice      163000.0  214000.00  755000.0  ",
      "text/html": "<div>\n<style scoped>\n    .dataframe tbody tr th:only-of-type {\n        vertical-align: middle;\n    }\n\n    .dataframe tbody tr th {\n        vertical-align: top;\n    }\n\n    .dataframe thead th {\n        text-align: right;\n    }\n</style>\n<table border=\"1\" class=\"dataframe\">\n  <thead>\n    <tr style=\"text-align: right;\">\n      <th></th>\n      <th>count</th>\n      <th>mean</th>\n      <th>std</th>\n      <th>min</th>\n      <th>25%</th>\n      <th>50%</th>\n      <th>75%</th>\n      <th>max</th>\n    </tr>\n  </thead>\n  <tbody>\n    <tr>\n      <th>Id</th>\n      <td>1460.0</td>\n      <td>730.500000</td>\n      <td>421.610009</td>\n      <td>1.0</td>\n      <td>365.75</td>\n      <td>730.5</td>\n      <td>1095.25</td>\n      <td>1460.0</td>\n    </tr>\n    <tr>\n      <th>MSSubClass</th>\n      <td>1460.0</td>\n      <td>56.897260</td>\n      <td>42.300571</td>\n      <td>20.0</td>\n      <td>20.00</td>\n      <td>50.0</td>\n      <td>70.00</td>\n      <td>190.0</td>\n    </tr>\n    <tr>\n      <th>LotFrontage</th>\n      <td>1201.0</td>\n      <td>70.049958</td>\n      <td>24.284752</td>\n      <td>21.0</td>\n      <td>59.00</td>\n      <td>69.0</td>\n      <td>80.00</td>\n      <td>313.0</td>\n    </tr>\n    <tr>\n      <th>LotArea</th>\n      <td>1460.0</td>\n      <td>10516.828082</td>\n      <td>9981.264932</td>\n      <td>1300.0</td>\n      <td>7553.50</td>\n      <td>9478.5</td>\n      <td>11601.50</td>\n      <td>215245.0</td>\n    </tr>\n    <tr>\n      <th>OverallQual</th>\n      <td>1460.0</td>\n      <td>6.099315</td>\n      <td>1.382997</td>\n      <td>1.0</td>\n      <td>5.00</td>\n      <td>6.0</td>\n      <td>7.00</td>\n      <td>10.0</td>\n    </tr>\n    <tr>\n      <th>OverallCond</th>\n      <td>1460.0</td>\n      <td>5.575342</td>\n      <td>1.112799</td>\n      <td>1.0</td>\n      <td>5.00</td>\n      <td>5.0</td>\n      <td>6.00</td>\n      <td>9.0</td>\n    </tr>\n    <tr>\n      <th>YearBuilt</th>\n      <td>1460.0</td>\n      <td>1971.267808</td>\n      <td>30.202904</td>\n      <td>1872.0</td>\n      <td>1954.00</td>\n      <td>1973.0</td>\n      <td>2000.00</td>\n      <td>2010.0</td>\n    </tr>\n    <tr>\n      <th>YearRemodAdd</th>\n      <td>1460.0</td>\n      <td>1984.865753</td>\n      <td>20.645407</td>\n      <td>1950.0</td>\n      <td>1967.00</td>\n      <td>1994.0</td>\n      <td>2004.00</td>\n      <td>2010.0</td>\n    </tr>\n    <tr>\n      <th>MasVnrArea</th>\n      <td>1452.0</td>\n      <td>103.685262</td>\n      <td>181.066207</td>\n      <td>0.0</td>\n      <td>0.00</td>\n      <td>0.0</td>\n      <td>166.00</td>\n      <td>1600.0</td>\n    </tr>\n    <tr>\n      <th>BsmtFinSF1</th>\n      <td>1460.0</td>\n      <td>443.639726</td>\n      <td>456.098091</td>\n      <td>0.0</td>\n      <td>0.00</td>\n      <td>383.5</td>\n      <td>712.25</td>\n      <td>5644.0</td>\n    </tr>\n    <tr>\n      <th>BsmtFinSF2</th>\n      <td>1460.0</td>\n      <td>46.549315</td>\n      <td>161.319273</td>\n      <td>0.0</td>\n      <td>0.00</td>\n      <td>0.0</td>\n      <td>0.00</td>\n      <td>1474.0</td>\n    </tr>\n    <tr>\n      <th>BsmtUnfSF</th>\n      <td>1460.0</td>\n      <td>567.240411</td>\n      <td>441.866955</td>\n      <td>0.0</td>\n      <td>223.00</td>\n      <td>477.5</td>\n      <td>808.00</td>\n      <td>2336.0</td>\n    </tr>\n    <tr>\n      <th>TotalBsmtSF</th>\n      <td>1460.0</td>\n      <td>1057.429452</td>\n      <td>438.705324</td>\n      <td>0.0</td>\n      <td>795.75</td>\n      <td>991.5</td>\n      <td>1298.25</td>\n      <td>6110.0</td>\n    </tr>\n    <tr>\n      <th>1stFlrSF</th>\n      <td>1460.0</td>\n      <td>1162.626712</td>\n      <td>386.587738</td>\n      <td>334.0</td>\n      <td>882.00</td>\n      <td>1087.0</td>\n      <td>1391.25</td>\n      <td>4692.0</td>\n    </tr>\n    <tr>\n      <th>2ndFlrSF</th>\n      <td>1460.0</td>\n      <td>346.992466</td>\n      <td>436.528436</td>\n      <td>0.0</td>\n      <td>0.00</td>\n      <td>0.0</td>\n      <td>728.00</td>\n      <td>2065.0</td>\n    </tr>\n    <tr>\n      <th>LowQualFinSF</th>\n      <td>1460.0</td>\n      <td>5.844521</td>\n      <td>48.623081</td>\n      <td>0.0</td>\n      <td>0.00</td>\n      <td>0.0</td>\n      <td>0.00</td>\n      <td>572.0</td>\n    </tr>\n    <tr>\n      <th>GrLivArea</th>\n      <td>1460.0</td>\n      <td>1515.463699</td>\n      <td>525.480383</td>\n      <td>334.0</td>\n      <td>1129.50</td>\n      <td>1464.0</td>\n      <td>1776.75</td>\n      <td>5642.0</td>\n    </tr>\n    <tr>\n      <th>BsmtFullBath</th>\n      <td>1460.0</td>\n      <td>0.425342</td>\n      <td>0.518911</td>\n      <td>0.0</td>\n      <td>0.00</td>\n      <td>0.0</td>\n      <td>1.00</td>\n      <td>3.0</td>\n    </tr>\n    <tr>\n      <th>BsmtHalfBath</th>\n      <td>1460.0</td>\n      <td>0.057534</td>\n      <td>0.238753</td>\n      <td>0.0</td>\n      <td>0.00</td>\n      <td>0.0</td>\n      <td>0.00</td>\n      <td>2.0</td>\n    </tr>\n    <tr>\n      <th>FullBath</th>\n      <td>1460.0</td>\n      <td>1.565068</td>\n      <td>0.550916</td>\n      <td>0.0</td>\n      <td>1.00</td>\n      <td>2.0</td>\n      <td>2.00</td>\n      <td>3.0</td>\n    </tr>\n    <tr>\n      <th>HalfBath</th>\n      <td>1460.0</td>\n      <td>0.382877</td>\n      <td>0.502885</td>\n      <td>0.0</td>\n      <td>0.00</td>\n      <td>0.0</td>\n      <td>1.00</td>\n      <td>2.0</td>\n    </tr>\n    <tr>\n      <th>BedroomAbvGr</th>\n      <td>1460.0</td>\n      <td>2.866438</td>\n      <td>0.815778</td>\n      <td>0.0</td>\n      <td>2.00</td>\n      <td>3.0</td>\n      <td>3.00</td>\n      <td>8.0</td>\n    </tr>\n    <tr>\n      <th>KitchenAbvGr</th>\n      <td>1460.0</td>\n      <td>1.046575</td>\n      <td>0.220338</td>\n      <td>0.0</td>\n      <td>1.00</td>\n      <td>1.0</td>\n      <td>1.00</td>\n      <td>3.0</td>\n    </tr>\n    <tr>\n      <th>TotRmsAbvGrd</th>\n      <td>1460.0</td>\n      <td>6.517808</td>\n      <td>1.625393</td>\n      <td>2.0</td>\n      <td>5.00</td>\n      <td>6.0</td>\n      <td>7.00</td>\n      <td>14.0</td>\n    </tr>\n    <tr>\n      <th>Fireplaces</th>\n      <td>1460.0</td>\n      <td>0.613014</td>\n      <td>0.644666</td>\n      <td>0.0</td>\n      <td>0.00</td>\n      <td>1.0</td>\n      <td>1.00</td>\n      <td>3.0</td>\n    </tr>\n    <tr>\n      <th>GarageYrBlt</th>\n      <td>1379.0</td>\n      <td>1978.506164</td>\n      <td>24.689725</td>\n      <td>1900.0</td>\n      <td>1961.00</td>\n      <td>1980.0</td>\n      <td>2002.00</td>\n      <td>2010.0</td>\n    </tr>\n    <tr>\n      <th>GarageCars</th>\n      <td>1460.0</td>\n      <td>1.767123</td>\n      <td>0.747315</td>\n      <td>0.0</td>\n      <td>1.00</td>\n      <td>2.0</td>\n      <td>2.00</td>\n      <td>4.0</td>\n    </tr>\n    <tr>\n      <th>GarageArea</th>\n      <td>1460.0</td>\n      <td>472.980137</td>\n      <td>213.804841</td>\n      <td>0.0</td>\n      <td>334.50</td>\n      <td>480.0</td>\n      <td>576.00</td>\n      <td>1418.0</td>\n    </tr>\n    <tr>\n      <th>WoodDeckSF</th>\n      <td>1460.0</td>\n      <td>94.244521</td>\n      <td>125.338794</td>\n      <td>0.0</td>\n      <td>0.00</td>\n      <td>0.0</td>\n      <td>168.00</td>\n      <td>857.0</td>\n    </tr>\n    <tr>\n      <th>OpenPorchSF</th>\n      <td>1460.0</td>\n      <td>46.660274</td>\n      <td>66.256028</td>\n      <td>0.0</td>\n      <td>0.00</td>\n      <td>25.0</td>\n      <td>68.00</td>\n      <td>547.0</td>\n    </tr>\n    <tr>\n      <th>EnclosedPorch</th>\n      <td>1460.0</td>\n      <td>21.954110</td>\n      <td>61.119149</td>\n      <td>0.0</td>\n      <td>0.00</td>\n      <td>0.0</td>\n      <td>0.00</td>\n      <td>552.0</td>\n    </tr>\n    <tr>\n      <th>3SsnPorch</th>\n      <td>1460.0</td>\n      <td>3.409589</td>\n      <td>29.317331</td>\n      <td>0.0</td>\n      <td>0.00</td>\n      <td>0.0</td>\n      <td>0.00</td>\n      <td>508.0</td>\n    </tr>\n    <tr>\n      <th>ScreenPorch</th>\n      <td>1460.0</td>\n      <td>15.060959</td>\n      <td>55.757415</td>\n      <td>0.0</td>\n      <td>0.00</td>\n      <td>0.0</td>\n      <td>0.00</td>\n      <td>480.0</td>\n    </tr>\n    <tr>\n      <th>PoolArea</th>\n      <td>1460.0</td>\n      <td>2.758904</td>\n      <td>40.177307</td>\n      <td>0.0</td>\n      <td>0.00</td>\n      <td>0.0</td>\n      <td>0.00</td>\n      <td>738.0</td>\n    </tr>\n    <tr>\n      <th>MiscVal</th>\n      <td>1460.0</td>\n      <td>43.489041</td>\n      <td>496.123024</td>\n      <td>0.0</td>\n      <td>0.00</td>\n      <td>0.0</td>\n      <td>0.00</td>\n      <td>15500.0</td>\n    </tr>\n    <tr>\n      <th>MoSold</th>\n      <td>1460.0</td>\n      <td>6.321918</td>\n      <td>2.703626</td>\n      <td>1.0</td>\n      <td>5.00</td>\n      <td>6.0</td>\n      <td>8.00</td>\n      <td>12.0</td>\n    </tr>\n    <tr>\n      <th>YrSold</th>\n      <td>1460.0</td>\n      <td>2007.815753</td>\n      <td>1.328095</td>\n      <td>2006.0</td>\n      <td>2007.00</td>\n      <td>2008.0</td>\n      <td>2009.00</td>\n      <td>2010.0</td>\n    </tr>\n    <tr>\n      <th>SalePrice</th>\n      <td>1460.0</td>\n      <td>180921.195890</td>\n      <td>79442.502883</td>\n      <td>34900.0</td>\n      <td>129975.00</td>\n      <td>163000.0</td>\n      <td>214000.00</td>\n      <td>755000.0</td>\n    </tr>\n  </tbody>\n</table>\n</div>"
     },
     "execution_count": 5,
     "metadata": {},
     "output_type": "execute_result"
    }
   ],
   "source": [
    "# Numerische Zusammenfassung\n",
    "df.describe().T"
   ],
   "metadata": {
    "collapsed": false,
    "ExecuteTime": {
     "end_time": "2025-06-17T07:37:18.980422Z",
     "start_time": "2025-06-17T07:37:18.942700Z"
    }
   },
   "id": "5fac4e72561b328a",
   "execution_count": 5
  },
  {
   "cell_type": "code",
   "outputs": [
    {
     "data": {
      "text/plain": "<Figure size 640x480 with 1 Axes>",
      "image/png": "[encoded data removed]"
     },
     "metadata": {},
     "output_type": "display_data"
    }
   ],
   "source": [
    "# Zielvariable-Distribution\n",
    "sns.histplot(df[\"SalePrice\"], kde=True)\n",
    "plt.title(\"Verteilung von SalePrice\")\n",
    "plt.show()"
   ],
   "metadata": {
    "collapsed": false,
    "ExecuteTime": {
     "end_time": "2025-06-17T14:14:25.642931Z",
     "start_time": "2025-06-17T14:14:25.569442Z"
    }
   },
   "id": "d09f7611c13c26cf",
   "execution_count": 8
  },
  {
   "cell_type": "markdown",
   "source": [
    "Rechtsschiefe Verteilung, meiste sind zwischen 100 und 300k aber einige Luxusimmobilien die einen langen Schwanz verursachen. Damit nicht überangepasst wird auf diese teuren Häuser werden wir später die Verteilung normal anpassen. Abstand wir durch log zusammengestaucht."
   ],
   "metadata": {
    "collapsed": false
   },
   "id": "b17c64f89f058fc5"
  },
  {
   "cell_type": "code",
   "outputs": [
    {
     "data": {
      "text/plain": "OverallQual     0.790982\nGrLivArea       0.708624\nGarageCars      0.640409\nGarageArea      0.623431\nTotalBsmtSF     0.613581\n1stFlrSF        0.605852\nFullBath        0.560664\nTotRmsAbvGrd    0.533723\nYearBuilt       0.522897\nYearRemodAdd    0.507101\nName: SalePrice, dtype: float64"
     },
     "execution_count": 10,
     "metadata": {},
     "output_type": "execute_result"
    }
   ],
   "source": [
    "# 1. Nur numerische Spalten auswählen\n",
    "num_df = df.select_dtypes(include=[np.number])\n",
    "\n",
    "# 2. Korrelationsmatrix nur für diese Spalten\n",
    "corr_matrix = num_df.corr()\n",
    "\n",
    "# 3. Absolute Korrelation von SalePrice sortieren, Top 10 (ohne sich selbst)\n",
    "top_corr = (\n",
    "    corr_matrix[\"SalePrice\"]\n",
    "    .abs()\n",
    "    .sort_values(ascending=False)\n",
    "    .iloc[1:11]\n",
    ")\n",
    "\n",
    "top_corr"
   ],
   "metadata": {
    "collapsed": false,
    "ExecuteTime": {
     "end_time": "2025-06-17T20:12:39.139564Z",
     "start_time": "2025-06-17T20:12:39.124675Z"
    }
   },
   "id": "1735d9e346e193a",
   "execution_count": 10
  },
  {
   "cell_type": "code",
   "outputs": [
    {
     "data": {
      "text/plain": "PoolQC          99.520548\nMiscFeature     96.301370\nAlley           93.767123\nFence           80.753425\nMasVnrType      59.726027\nFireplaceQu     47.260274\nLotFrontage     17.739726\nGarageYrBlt      5.547945\nGarageCond       5.547945\nGarageType       5.547945\nGarageFinish     5.547945\nGarageQual       5.547945\nBsmtFinType2     2.602740\nBsmtExposure     2.602740\nBsmtQual         2.534247\nBsmtCond         2.534247\nBsmtFinType1     2.534247\nMasVnrArea       0.547945\nElectrical       0.068493\nId               0.000000\ndtype: float64"
     },
     "execution_count": 6,
     "metadata": {},
     "output_type": "execute_result"
    }
   ],
   "source": [
    "# Prozent fehlender Werte pro Spalte\n",
    "missing = df.isna().mean().sort_values(ascending=False) * 100\n",
    "missing.head(20)"
   ],
   "metadata": {
    "collapsed": false,
    "ExecuteTime": {
     "end_time": "2025-06-17T14:13:06.748486Z",
     "start_time": "2025-06-17T14:13:06.724875Z"
    }
   },
   "id": "4698486b7e5312b7",
   "execution_count": 6
  },
  {
   "cell_type": "code",
   "outputs": [],
   "source": [
    "# Features, die wir komplett droppen\n",
    "drop_feats = missing[missing > 50].index.tolist()\n",
    "\n",
    "# Kategorische zum Auffüllen mit 'None'\n",
    "cat_feats = df.select_dtypes(include=[\"object\"]).columns\n",
    "cat_impute_feats = [\n",
    "    f for f in cat_feats\n",
    "    if 0 < df[f].isna().mean() < 0.5\n",
    "]\n",
    "\n",
    "# Numerische zum median-Imputieren\n",
    "num_feats = df.select_dtypes(include=[np.number]).columns.drop(\"SalePrice\")\n",
    "num_impute_feats = []                  # leere Liste anlegen\n",
    "for f in num_feats:                    # für jedes Feature f in num_feats\n",
    "    missing_pct = df[f].isna().mean()  # Anteil der fehlenden Werte in Spalte f\n",
    "    # prüfen, ob mehr als 0% und weniger als 50% fehlen\n",
    "    if missing_pct > 0 and missing_pct < 0.5:\n",
    "        num_impute_feats.append(f)     # dann f in unsere Liste aufnehmen"
   ],
   "metadata": {
    "collapsed": false,
    "ExecuteTime": {
     "end_time": "2025-06-17T20:39:32.557241Z",
     "start_time": "2025-06-17T20:39:32.551876Z"
    }
   },
   "id": "fbec81214fb2896f",
   "execution_count": 13
  },
  {
   "cell_type": "code",
   "outputs": [],
   "source": [
    "# 1. Drop-Features entfernen\n",
    "df_clean = df.drop(columns=drop_feats)\n",
    "\n",
    "# 2. Kategorische Imputation\n",
    "for f in cat_impute_feats:\n",
    "    df_clean[f] = df_clean[f].fillna(\"None\")\n",
    "\n",
    "# 3. Numerische Imputation\n",
    "for f in num_impute_feats:\n",
    "    median = df_clean[f].median()\n",
    "    df_clean[f] = df_clean[f].fillna(median)\n",
    "\n",
    "# 4. Überprüfen, dass keine NAs mehr vorhanden sind (außer in Test-Daten)\n",
    "assert df_clean.isna().sum().sum() == 0 # assert gibt Fehlermeldung wenn Bedingung nicht erfüllt, sonst passiert gar nichts"
   ],
   "metadata": {
    "collapsed": false,
    "ExecuteTime": {
     "end_time": "2025-06-17T20:39:33.904032Z",
     "start_time": "2025-06-17T20:39:33.897076Z"
    }
   },
   "id": "1322cb66a19ad057",
   "execution_count": 14
  },
  {
   "cell_type": "code",
   "outputs": [],
   "source": [
    "from src.data import save_processed_data\n",
    "\n",
    "# Speichere das bereinigte Training\n",
    "save_processed_data(df_clean, \"train_clean.csv\")"
   ],
   "metadata": {
    "collapsed": false,
    "ExecuteTime": {
     "end_time": "2025-06-17T20:48:44.139219Z",
     "start_time": "2025-06-17T20:48:44.114190Z"
    }
   },
   "id": "59114b948aa94b9a",
   "execution_count": 15
  },
  {
   "cell_type": "markdown",
   "source": [
    "TODO: MLflow Artefakte erstellen (ChatGPT nach sinnvollen Visualisierungen der Ergebnisse fragen)"
   ],
   "metadata": {
    "collapsed": false
   },
   "id": "eff3220a67afac4f"
  },
  {
   "cell_type": "markdown",
   "source": [
    "TODO: Hyperparameter Tuning"
   ],
   "metadata": {
    "collapsed": false
   },
   "id": "99092456b0e167fd"
  },
  {
   "cell_type": "code",
   "outputs": [],
   "source": [],
   "metadata": {
    "collapsed": false
   },
   "id": "4d566f0e653456bb"
  }
 ],
 "metadata": {
  "kernelspec": {
   "display_name": "Python 3",
   "language": "python",
   "name": "python3"
  },
  "language_info": {
   "codemirror_mode": {
    "name": "ipython",
    "version": 2
   },
   "file_extension": ".py",
   "mimetype": "text/x-python",
   "name": "python",
   "nbconvert_exporter": "python",
   "pygments_lexer": "ipython2",
   "version": "2.7.6"
  }
 },
 "nbformat": 4,
 "nbformat_minor": 5
}
